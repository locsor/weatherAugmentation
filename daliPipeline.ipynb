{
 "cells": [
  {
   "cell_type": "code",
   "execution_count": 1,
   "id": "closed-tension",
   "metadata": {},
   "outputs": [
    {
     "ename": "ModuleNotFoundError",
     "evalue": "No module named 'nvidia'",
     "output_type": "error",
     "traceback": [
      "\u001b[1;31m---------------------------------------------------------------------------\u001b[0m",
      "\u001b[1;31mModuleNotFoundError\u001b[0m                       Traceback (most recent call last)",
      "\u001b[1;32m<ipython-input-1-e1587ee8ddc2>\u001b[0m in \u001b[0;36m<module>\u001b[1;34m\u001b[0m\n\u001b[1;32m----> 1\u001b[1;33m \u001b[1;32mfrom\u001b[0m \u001b[0mnvidia\u001b[0m\u001b[1;33m.\u001b[0m\u001b[0mdali\u001b[0m\u001b[1;33m.\u001b[0m\u001b[0mpipeline\u001b[0m \u001b[1;32mimport\u001b[0m \u001b[0mPipeline\u001b[0m\u001b[1;33m\u001b[0m\u001b[1;33m\u001b[0m\u001b[0m\n\u001b[0m\u001b[0;32m      2\u001b[0m \u001b[1;32mimport\u001b[0m \u001b[0mnvidia\u001b[0m\u001b[1;33m.\u001b[0m\u001b[0mdali\u001b[0m\u001b[1;33m.\u001b[0m\u001b[0mops\u001b[0m \u001b[1;32mas\u001b[0m \u001b[0mops\u001b[0m\u001b[1;33m\u001b[0m\u001b[1;33m\u001b[0m\u001b[0m\n\u001b[0;32m      3\u001b[0m \u001b[1;32mimport\u001b[0m \u001b[0mnvidia\u001b[0m\u001b[1;33m.\u001b[0m\u001b[0mdali\u001b[0m\u001b[1;33m.\u001b[0m\u001b[0mtypes\u001b[0m \u001b[1;32mas\u001b[0m \u001b[0mtypes\u001b[0m\u001b[1;33m\u001b[0m\u001b[1;33m\u001b[0m\u001b[0m\n\u001b[0;32m      4\u001b[0m \u001b[1;32mimport\u001b[0m \u001b[0mnumpy\u001b[0m\u001b[1;33m\u001b[0m\u001b[1;33m\u001b[0m\u001b[0m\n\u001b[0;32m      5\u001b[0m \u001b[1;32mimport\u001b[0m \u001b[0mcupy\u001b[0m\u001b[1;33m\u001b[0m\u001b[1;33m\u001b[0m\u001b[0m\n",
      "\u001b[1;31mModuleNotFoundError\u001b[0m: No module named 'nvidia'"
     ]
    }
   ],
   "source": [
    "from nvidia.dali.pipeline import Pipeline\n",
    "import nvidia.dali.ops as ops\n",
    "import nvidia.dali.types as types\n",
    "import numpy\n",
    "import cupy"
   ]
  },
  {
   "cell_type": "code",
   "execution_count": null,
   "id": "hydraulic-disabled",
   "metadata": {},
   "outputs": [],
   "source": [
    "class CommonPipeline(Pipeline):\n",
    "    def __init__(self, batch_size, num_threads, device_id, image_dir):\n",
    "        super(CommonPipeline, self).__init__(batch_size, num_threads, device_id, exec_async=False,\n",
    "                                             exec_pipelined=False, seed=99)\n",
    "        self.input1 = ops.FileReader(file_root=image_dir, random_shuffle=True)\n",
    "        self.input2 = ops.FileReader(file_root=image_dir, random_shuffle=True)\n",
    "        self.decode = ops.ImageDecoder(device='mixed', output_type=types.RGB)\n",
    "        self.resize = ops.Resize(resize_x=300, resize_y=300, device='gpu')\n",
    "\n",
    "    def load(self):\n",
    "        jpegs1, labels = self.input1()\n",
    "        jpegs2, labels = self.input2()\n",
    "        im1, im2 = self.decode([jpegs1, jpegs2])\n",
    "        return self.resize([im1, im2])\n",
    "\n",
    "\n",
    "class PythonFuncPipeline(CommonPipeline):\n",
    "    def __init__(self, batch_size, num_threads, device_id, image_dir):\n",
    "        super(PythonFuncPipeline, self).__init__(batch_size, num_threads, device_id, image_dir)\n",
    "        self.edit_images = ops.PythonFunction(function=edit_images, num_outputs=2, device='gpu')\n",
    "        self.mix = ops.PythonFunction(function=mix_channels_kernel, device='gpu')\n",
    "\n",
    "    def define_graph(self):\n",
    "        images1, images2 = self.load()\n",
    "        res1, res2 = self.edit_images(images1, images2)\n",
    "        res3 = self.mix(images1, images2)\n",
    "        return res1, res2, res3"
   ]
  },
  {
   "cell_type": "code",
   "execution_count": null,
   "id": "canadian-hamilton",
   "metadata": {},
   "outputs": [],
   "source": [
    "pipe = PythonFuncPipeline(batch_size, 4, 0, image_dir)\n",
    "pipe.build()\n",
    "ims1, ims2, ims3 = pipe.run()"
   ]
  }
 ],
 "metadata": {
  "kernelspec": {
   "display_name": "Python 3",
   "language": "python",
   "name": "python3"
  },
  "language_info": {
   "codemirror_mode": {
    "name": "ipython",
    "version": 3
   },
   "file_extension": ".py",
   "mimetype": "text/x-python",
   "name": "python",
   "nbconvert_exporter": "python",
   "pygments_lexer": "ipython3",
   "version": "3.7.10"
  }
 },
 "nbformat": 4,
 "nbformat_minor": 5
}
