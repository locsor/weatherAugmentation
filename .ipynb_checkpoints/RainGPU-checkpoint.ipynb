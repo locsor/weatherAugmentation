{
 "cells": [
  {
   "cell_type": "code",
   "execution_count": 1,
   "metadata": {},
   "outputs": [],
   "source": [
    "#import imgaug.augmenters as iaa\n",
    "import numpy as np\n",
    "import random\n",
    "import time\n",
    "import cv2\n",
    "import cupy as cp\n",
    "import cupyx as cpx\n",
    "import math\n",
    "import matplotlib.pyplot as plt\n",
    "from pkg_resources import resource_filename\n",
    "from scipy.ndimage import zoom as scizoom\n",
    "from cupyimg.skimage.transform import resize\n",
    "from skimage.draw import line_aa"
   ]
  },
  {
   "cell_type": "code",
   "execution_count": 2,
   "metadata": {},
   "outputs": [],
   "source": [
    "def rain_cupy(x, severity=1):\n",
    "    c = [(1, 0.4),\n",
    "         (0.8, 0.6),\n",
    "         (0.7, 0.7),\n",
    "         (0.65, 0.7),\n",
    "         (0.6, 0.75)][severity - 1]\n",
    "    frost = cv2.imread('./rain/rain1.png')\n",
    "    frost_shape = frost.shape\n",
    "    x_shape = cp.array(x).shape\n",
    "\n",
    "    # resize the frost image so it fits to the image dimensions\n",
    "    scaling_factor = 1\n",
    "    if frost_shape[0] >= x_shape[0] and frost_shape[1] >= x_shape[1]:\n",
    "        scaling_factor = 1\n",
    "    elif frost_shape[0] < x_shape[0] and frost_shape[1] >= x_shape[1]:\n",
    "        scaling_factor = x_shape[0] / frost_shape[0]\n",
    "    elif frost_shape[0] >= x_shape[0] and frost_shape[1] < x_shape[1]:\n",
    "        scaling_factor = x_shape[1] / frost_shape[1]\n",
    "    elif frost_shape[0] < x_shape[0] and frost_shape[1] < x_shape[\n",
    "        1]:  # If both dims are too small, pick the bigger scaling factor\n",
    "        scaling_factor_0 = x_shape[0] / frost_shape[0]\n",
    "        scaling_factor_1 = x_shape[1] / frost_shape[1]\n",
    "        scaling_factor = cp.maximum(scaling_factor_0, scaling_factor_1)\n",
    "\n",
    "    scaling_factor *= 1.1\n",
    "    new_shape = (int(cp.ceil(frost_shape[1] * scaling_factor)),\n",
    "                 int(cp.ceil(frost_shape[0] * scaling_factor)))\n",
    "    frost_rescaled = cp.array(cv2.resize(frost, dsize=new_shape,\n",
    "                                interpolation=cv2.INTER_CUBIC))\n",
    "    print(frost_rescaled)\n",
    "\n",
    "    # randomly crop\n",
    "    x_start, y_start = np.random.randint(0, frost_rescaled.shape[0] - x_shape[\n",
    "        0]), np.random.randint(0, frost_rescaled.shape[1] - x_shape[1])\n",
    "\n",
    "    if len(x_shape) < 3 or x_shape[2] < 3:\n",
    "        frost_rescaled = frost_rescaled[x_start:x_start + x_shape[0],\n",
    "                         y_start:y_start + x_shape[1]]\n",
    "        frost_rescaled = rgb2gray_cupy(frost_rescaled)\n",
    "    else:\n",
    "        frost_rescaled = frost_rescaled[x_start:x_start + x_shape[0],\n",
    "                         y_start:y_start + x_shape[1]][..., [2, 1, 0]]\n",
    "        \n",
    "    return np.clip(c[0] * cp.array(x) + c[1] * frost_rescaled, 0, 255)"
   ]
  },
  {
   "cell_type": "code",
   "execution_count": 3,
   "metadata": {},
   "outputs": [
    {
     "ename": "NameError",
     "evalue": "name 'snow_cupy' is not defined",
     "output_type": "error",
     "traceback": [
      "\u001b[0;31m---------------------------------------------------------------------------\u001b[0m",
      "\u001b[0;31mNameError\u001b[0m                                 Traceback (most recent call last)",
      "\u001b[0;32m<ipython-input-3-51d392f99ca5>\u001b[0m in \u001b[0;36m<module>\u001b[0;34m()\u001b[0m\n\u001b[1;32m      2\u001b[0m \u001b[0;34m\u001b[0m\u001b[0m\n\u001b[1;32m      3\u001b[0m \u001b[0mimg\u001b[0m \u001b[0;34m=\u001b[0m \u001b[0mcv2\u001b[0m\u001b[0;34m.\u001b[0m\u001b[0mcvtColor\u001b[0m\u001b[0;34m(\u001b[0m\u001b[0mcv2\u001b[0m\u001b[0;34m.\u001b[0m\u001b[0mimread\u001b[0m\u001b[0;34m(\u001b[0m\u001b[0mimage_dir\u001b[0m \u001b[0;34m+\u001b[0m \u001b[0;34m'/2.png'\u001b[0m\u001b[0;34m)\u001b[0m\u001b[0;34m,\u001b[0m\u001b[0mcv2\u001b[0m\u001b[0;34m.\u001b[0m\u001b[0mCOLOR_BGR2RGB\u001b[0m\u001b[0;34m)\u001b[0m\u001b[0;34m\u001b[0m\u001b[0;34m\u001b[0m\u001b[0m\n\u001b[0;32m----> 4\u001b[0;31m \u001b[0mout\u001b[0m \u001b[0;34m=\u001b[0m \u001b[0mnp\u001b[0m\u001b[0;34m.\u001b[0m\u001b[0muint8\u001b[0m\u001b[0;34m(\u001b[0m\u001b[0mcp\u001b[0m\u001b[0;34m.\u001b[0m\u001b[0masnumpy\u001b[0m\u001b[0;34m(\u001b[0m\u001b[0msnow_cupy\u001b[0m\u001b[0;34m(\u001b[0m\u001b[0mimg\u001b[0m \u001b[0;34m,\u001b[0m\u001b[0;36m3\u001b[0m\u001b[0;34m)\u001b[0m\u001b[0;34m)\u001b[0m\u001b[0;34m)\u001b[0m\u001b[0;34m\u001b[0m\u001b[0;34m\u001b[0m\u001b[0m\n\u001b[0m\u001b[1;32m      5\u001b[0m \u001b[0;34m\u001b[0m\u001b[0m\n\u001b[1;32m      6\u001b[0m \u001b[0mplt\u001b[0m\u001b[0;34m.\u001b[0m\u001b[0mimshow\u001b[0m\u001b[0;34m(\u001b[0m\u001b[0mout\u001b[0m\u001b[0;34m)\u001b[0m\u001b[0;34m\u001b[0m\u001b[0;34m\u001b[0m\u001b[0m\n",
      "\u001b[0;31mNameError\u001b[0m: name 'snow_cupy' is not defined"
     ]
    }
   ],
   "source": [
    "image_dir = './images'\n",
    "\n",
    "img = cv2.cvtColor(cv2.imread(image_dir + '/2.png'),cv2.COLOR_BGR2RGB)\n",
    "out = np.uint8(cp.asnumpy(rain_cupy(img ,3)))\n",
    "\n",
    "plt.imshow(out)"
   ]
  },
  {
   "cell_type": "code",
   "execution_count": null,
   "metadata": {},
   "outputs": [],
   "source": []
  }
 ],
 "metadata": {
  "kernelspec": {
   "display_name": "Python 3",
   "language": "python",
   "name": "python3"
  },
  "language_info": {
   "codemirror_mode": {
    "name": "ipython",
    "version": 3
   },
   "file_extension": ".py",
   "mimetype": "text/x-python",
   "name": "python",
   "nbconvert_exporter": "python",
   "pygments_lexer": "ipython3",
   "version": "3.6.9"
  }
 },
 "nbformat": 4,
 "nbformat_minor": 2
}
